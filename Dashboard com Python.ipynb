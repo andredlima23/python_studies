{
 "cells": [
  {
   "cell_type": "code",
   "execution_count": null,
   "id": "668c20b3",
   "metadata": {},
   "outputs": [
    {
     "name": "stdout",
     "output_type": "stream",
     "text": [
      "Dash is running on http://127.0.0.1:8050/\n",
      "\n",
      " * Serving Flask app \"__main__\" (lazy loading)\n",
      " * Environment: production\n",
      "\u001b[31m   WARNING: This is a development server. Do not use it in a production deployment.\u001b[0m\n",
      "\u001b[2m   Use a production WSGI server instead.\u001b[0m\n",
      " * Debug mode: off\n"
     ]
    },
    {
     "name": "stderr",
     "output_type": "stream",
     "text": [
      " * Running on http://127.0.0.1:8050/ (Press CTRL+C to quit)\n",
      "127.0.0.1 - - [19/Mar/2023 11:33:10] \"GET / HTTP/1.1\" 200 -\n",
      "127.0.0.1 - - [19/Mar/2023 11:33:10] \"GET /_dash-dependencies HTTP/1.1\" 200 -\n",
      "127.0.0.1 - - [19/Mar/2023 11:33:10] \"GET /_dash-layout HTTP/1.1\" 200 -\n",
      "127.0.0.1 - - [19/Mar/2023 11:33:10] \"GET /_favicon.ico?v=2.9.1 HTTP/1.1\" 200 -\n",
      "127.0.0.1 - - [19/Mar/2023 11:33:10] \"GET /_dash-component-suites/dash/dcc/async-dropdown.js HTTP/1.1\" 200 -\n",
      "127.0.0.1 - - [19/Mar/2023 11:33:10] \"GET /_dash-component-suites/dash/dcc/async-graph.js HTTP/1.1\" 200 -\n",
      "127.0.0.1 - - [19/Mar/2023 11:33:10] \"POST /_dash-update-component HTTP/1.1\" 200 -\n",
      "127.0.0.1 - - [19/Mar/2023 11:33:10] \"GET /_dash-component-suites/dash/dcc/async-plotlyjs.js HTTP/1.1\" 200 -\n",
      "127.0.0.1 - - [19/Mar/2023 11:33:13] \"POST /_dash-update-component HTTP/1.1\" 200 -\n",
      "127.0.0.1 - - [19/Mar/2023 11:33:21] \"POST /_dash-update-component HTTP/1.1\" 200 -\n",
      "127.0.0.1 - - [19/Mar/2023 11:33:27] \"POST /_dash-update-component HTTP/1.1\" 200 -\n",
      "127.0.0.1 - - [19/Mar/2023 11:33:31] \"POST /_dash-update-component HTTP/1.1\" 200 -\n",
      "127.0.0.1 - - [19/Mar/2023 11:33:34] \"POST /_dash-update-component HTTP/1.1\" 200 -\n"
     ]
    }
   ],
   "source": [
    "from dash import Dash, html, dcc, Input, Output\n",
    "import plotly.express as px\n",
    "import pandas as pd\n",
    "\n",
    "app = Dash(__name__)\n",
    "\n",
    "df = pd.read_excel(\"Vendas.xlsx\")\n",
    "\n",
    "# Criando o gráfico\n",
    "fig = px.bar(df, x=\"Produto\", y=\"Quantidade\", color=\"ID Loja\", barmode=\"group\")\n",
    "options = list(df['ID Loja'].unique())\n",
    "options.append(\"Todas as Lojas\")\n",
    "\n",
    "app.layout = html.Div(children=[\n",
    "    html.H1(children='Faturamento das Lojas'),\n",
    "    html.H2(children='Gráfico com o faturamento de todos os produtos separados por loja'),\n",
    "    html.Div(children='''\n",
    "        Atenção! Esse gráfico mostra a quantidade de produtos vendidos, e não o faturamento.\n",
    "    '''),\n",
    "    dcc.Dropdown(options, value='Todas as Lojas', id='lista_lojas'),\n",
    "    dcc.Graph(\n",
    "        id='grafico_qtd_vendas',\n",
    "        figure=fig\n",
    "    )\n",
    "])\n",
    "\n",
    "@app.callback(\n",
    "    Output('grafico_qtd_vendas', 'figure'),\n",
    "    Input('lista_lojas', 'value')\n",
    ")\n",
    "def update_output(value):\n",
    "    if value == \"Todas as Lojas\":\n",
    "        fig = px.bar(df, x=\"Produto\", y=\"Quantidade\", color=\"ID Loja\", barmode=\"group\")\n",
    "    else:\n",
    "        tabela_filtrada = df.loc[df['ID Loja'] == value, :]\n",
    "        fig = px.bar(tabela_filtrada, x=\"Produto\", y=\"Quantidade\", color=\"ID Loja\", barmode=\"group\")\n",
    "    return fig\n",
    "\n",
    "if __name__ == '__main__':\n",
    "    app.run_server(debug=False)"
   ]
  },
  {
   "cell_type": "code",
   "execution_count": null,
   "id": "a3bad84d",
   "metadata": {},
   "outputs": [],
   "source": []
  }
 ],
 "metadata": {
  "kernelspec": {
   "display_name": "Python 3 (ipykernel)",
   "language": "python",
   "name": "python3"
  },
  "language_info": {
   "codemirror_mode": {
    "name": "ipython",
    "version": 3
   },
   "file_extension": ".py",
   "mimetype": "text/x-python",
   "name": "python",
   "nbconvert_exporter": "python",
   "pygments_lexer": "ipython3",
   "version": "3.9.13"
  }
 },
 "nbformat": 4,
 "nbformat_minor": 5
}
