{
  "nbformat": 4,
  "nbformat_minor": 0,
  "metadata": {
    "colab": {
      "provenance": [],
      "authorship_tag": "ABX9TyOBy/eKg5tBR36atJnvmh7Y",
      "include_colab_link": true
    },
    "kernelspec": {
      "name": "python3",
      "display_name": "Python 3"
    },
    "language_info": {
      "name": "python"
    }
  },
  "cells": [
    {
      "cell_type": "markdown",
      "metadata": {
        "id": "view-in-github",
        "colab_type": "text"
      },
      "source": [
        "<a href=\"https://colab.research.google.com/github/andredlima23/python_studies/blob/main/Ifood_Dev_Week.ipynb\" target=\"_parent\"><img src=\"https://colab.research.google.com/assets/colab-badge.svg\" alt=\"Open In Colab\"/></a>"
      ]
    },
    {
      "cell_type": "markdown",
      "source": [
        "Dia 1: Conhecendo o Google Colab e o projeto da Ifood Dev Week"
      ],
      "metadata": {
        "id": "Xbq35lYcjOHf"
      }
    },
    {
      "cell_type": "code",
      "execution_count": 22,
      "metadata": {
        "id": "G-nn7V2pjJ2A",
        "colab": {
          "base_uri": "https://localhost:8080/"
        },
        "outputId": "c2c95c34-b7d2-48b6-c93a-be7673c0acfd",
        "cellView": "form"
      },
      "outputs": [
        {
          "output_type": "stream",
          "name": "stdout",
          "text": [
            "63.63636363636363\n"
          ]
        }
      ],
      "source": [
        "#@title\n",
        "# Estrutura funcional\n",
        "import pandas as pd\n",
        "\n",
        "def calcular_nps(notas):\n",
        "  detratores = 0\n",
        "  promotores = 0\n",
        "\n",
        "  for nota in notas:\n",
        "    if nota >= 9:\n",
        "      promotores += 1\n",
        "    elif nota <= 6:\n",
        "      detratores += 1\n",
        "\n",
        "  nps = (promotores - detratores) / len(notas) * 100\n",
        "  return nps\n",
        "\n",
        "dados = pd.read_csv('/content/Feedbacks.csv', delimiter = ';')\n",
        "\n",
        "notas = dados['nota']\n",
        "print(calcular_nps(notas))"
      ]
    },
    {
      "cell_type": "code",
      "source": [
        "# Estrutura em POO\n",
        "import pandas as pd\n",
        "\n",
        "class Feedback:\n",
        "  def __init__(self, nota, comentario):\n",
        "    self.nota = nota\n",
        "    self.comentario = comentario\n",
        "\n",
        "class AnalisadorFeedbacks:\n",
        "  def __init__(self, feedbacks):\n",
        "    self.feedbacks = feedbacks\n",
        "\n",
        "  def calcular_nps(self):\n",
        "    detratores = sum([1 for feedback in self.feedbacks if feedback.nota <= 6])\n",
        "    promotores = sum([1 for feedback in self.feedbacks if feedback.nota >= 9])\n",
        "\n",
        "    nps = (promotores - detratores) / len(self.feedbacks) * 100\n",
        "    return nps\n",
        "\n",
        "dados = pd.read_csv('/content/Feedbacks.csv', delimiter = ';')\n",
        "\n",
        "feedbacks = [Feedback(linha['nota'], linha['comentario']) for i, linha in dados.iterrows()]\n",
        "\n",
        "analisador = AnalisadorFeedbacks(feedbacks)\n",
        "nps = analisador.calcular_nps()"
      ],
      "metadata": {
        "id": "Z0UtY7k3qrxu"
      },
      "execution_count": 24,
      "outputs": []
    },
    {
      "cell_type": "code",
      "source": [
        "import matplotlib.pyplot as plt\n",
        "import matplotlib.patches as mpatches\n",
        "\n",
        "# Definição das constantes que usaremos para visualizar o NPS\n",
        "NPS_ZONAS =  ['Crítico', 'Aperfeiçoamento', 'Qualidade', 'Excelência']\n",
        "NPS_VALORES = [-100, 0, 50, 75, 100]\n",
        "NPS_CORES = ['#FF595E', '#FFCA3A', '#8AC926', '#1982C4']\n",
        "\n",
        "# Criar um gráfico para visualizar o NPS\n",
        "def criar_grafico(nps):\n",
        "  fig, ax = plt.subplots(figsize=(10, 2))\n",
        "\n",
        "  for i, zona in enumerate(NPS_ZONAS):\n",
        "    ax.barh([0], width=NPS_VALORES[i+1]-NPS_VALORES[i], left=NPS_VALORES[i], color=NPS_CORES[i])\n",
        "\n",
        "  ax.barh([0], width=1, left=nps, color='black')\n",
        "  ax.set_yticks([])\n",
        "  ax.set_xlim(-100, 100)\n",
        "  ax.set_xticks(NPS_VALORES)\n",
        "\n",
        "  plt.text(nps, 0, f'{nps:.2f}', ha='center', va='center', color='white', bbox=dict(facecolor='black'))\n",
        "\n",
        "  patches = [mpatches.Patch(color=NPS_CORES[i], label=NPS_ZONAS[i]) for i in range(len(NPS_ZONAS))]\n",
        "  plt.legend(handles=patches, bbox_to_anchor=(1,1))\n",
        "\n",
        "  plt.show()\n",
        "\n",
        "criar_grafico(nps)"
      ],
      "metadata": {
        "colab": {
          "base_uri": "https://localhost:8080/",
          "height": 205
        },
        "id": "qtkEnJv2dZ9b",
        "outputId": "8e4b47a1-04de-4a1e-886f-4bb4df0b044c"
      },
      "execution_count": 25,
      "outputs": [
        {
          "output_type": "display_data",
          "data": {
            "text/plain": [
              "<Figure size 1000x200 with 1 Axes>"
            ],
            "image/png": "[encoded data removed]"
          },
          "metadata": {}
        }
      ]
    }
  ]
}